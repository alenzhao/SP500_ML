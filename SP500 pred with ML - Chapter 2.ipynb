{
 "cells": [
  {
   "cell_type": "markdown",
   "metadata": {},
   "source": [
    "## Chapter 2: machine learning for S&P500 prediction "
   ]
  },
  {
   "cell_type": "markdown",
   "metadata": {},
   "source": [
    "**by Li Shen, Ph.D.**\n",
    "\n",
    "**E-mail: shenli.sam@gmail.com**\n",
    "\n",
    "**LinkedIn: https://www.linkedin.com/in/lshen**\n",
    "\n",
    "**Updated: 2016/06/01**"
   ]
  },
  {
   "cell_type": "markdown",
   "metadata": {},
   "source": [
    "## Summary"
   ]
  },
  {
   "cell_type": "markdown",
   "metadata": {},
   "source": [
    "In this chapter, machine learning techniques are used to predict the log returns of the daily close prices of S&P500. Two families of machine learning methods are considered, i.e. Support Vector Machines (SVMs) and decision tree ensembles, including random forest and extra trees. The machine learning methods are used to either directly predict the log returns or combine with the ARMA predictions in a hybrid fashion from the previous chapter. It is found that with the direct approach, the machine learning methods may perform worse than the ARMA method and the results are highly variable. While with the hybrid approach, the results are less variable and the machine learning methods can perform as well as or better than the ARMA method. It is also found that the random forest performs extremely well at 21d and 42d time horizons but its performance quickly degrades at 64d time horizon."
   ]
  },
  {
   "cell_type": "markdown",
   "metadata": {},
   "source": [
    "### Load data and libraries"
   ]
  },
  {
   "cell_type": "code",
   "execution_count": 264,
   "metadata": {
    "collapsed": true
   },
   "outputs": [
    {
     "name": "stdout",
     "output_type": "stream",
     "text": [
      "Populating the interactive namespace from numpy and matplotlib\n"
     ]
    },
    {
     "name": "stderr",
     "output_type": "stream",
     "text": [
      "WARNING: pylab import has clobbered these variables: ['axes']\n",
      "`%matplotlib` prevents importing * from pylab and numpy\n"
     ]
    }
   ],
   "source": [
    "%pylab inline\n",
    "import numpy as np\n",
    "import pandas as pd"
   ]
  },
  {
   "cell_type": "markdown",
   "metadata": {},
   "source": [
    "First, load the S&P500 daily log return data saved from previous chapter, including the ARMA residuals. This dataset includes the daily closing prices of S&P500 from 2012/06/01 to 2014/08/30, of which the time period of 2012/06/01-2014/05/31 is used as train set and the time period of 2014/06/01-2014/08/30 is used as test set."
   ]
  },
  {
   "cell_type": "code",
   "execution_count": 265,
   "metadata": {
    "collapsed": true
   },
   "outputs": [],
   "source": [
    "ts_logrt = pd.read_csv('ts_logrt.csv')\n",
    "ts_logrt = pd.DataFrame(ts_logrt['sp500_logrt'].values, \n",
    "                        index=pd.to_datetime(ts_logrt['Date']), \n",
    "                        columns=['sp500_logrt'])\n",
    "arma_all_resid = np.load('arma_all_resid.npy')\n",
    "split_date = '2014-06-01'\n",
    "lrt_train = ts_logrt[:split_date]\n",
    "lrt_test = ts_logrt[split_date:]"
   ]
  },
  {
   "cell_type": "markdown",
   "metadata": {},
   "source": [
    "### 2.1 Lagged data and feature selection"
   ]
  },
  {
   "cell_type": "markdown",
   "metadata": {},
   "source": [
    "#### 2.1.1 Lagged log return data"
   ]
  },
  {
   "cell_type": "markdown",
   "metadata": {},
   "source": [
    "To apply machine learning, we must first decide what are predictors and targets. Here, I use 20 lagged log returns as predictors and the log return on the current day as target. 20 is an arbitrary choice but shall be large enough to include all the historical correlations. We may use all 20 days' data as predictors or only part of them. I'll leave it to the feature selection to decide."
   ]
  },
  {
   "cell_type": "code",
   "execution_count": 527,
   "metadata": {
    "collapsed": false
   },
   "outputs": [
    {
     "name": "stdout",
     "output_type": "stream",
     "text": [
      "Dimensions of lagged log return data: (648, 20)\n"
     ]
    },
    {
     "data": {
      "text/html": [
       "<div>\n",
       "<table border=\"1\" class=\"dataframe\">\n",
       "  <thead>\n",
       "    <tr style=\"text-align: right;\">\n",
       "      <th></th>\n",
       "      <th>L1</th>\n",
       "      <th>L2</th>\n",
       "      <th>L3</th>\n",
       "      <th>L4</th>\n",
       "      <th>L5</th>\n",
       "      <th>L6</th>\n",
       "      <th>L7</th>\n",
       "      <th>L8</th>\n",
       "      <th>L9</th>\n",
       "      <th>L10</th>\n",
       "      <th>L11</th>\n",
       "      <th>L12</th>\n",
       "      <th>L13</th>\n",
       "      <th>L14</th>\n",
       "      <th>L15</th>\n",
       "      <th>L16</th>\n",
       "      <th>L17</th>\n",
       "      <th>L18</th>\n",
       "      <th>L19</th>\n",
       "      <th>L20</th>\n",
       "    </tr>\n",
       "    <tr>\n",
       "      <th>Date</th>\n",
       "      <th></th>\n",
       "      <th></th>\n",
       "      <th></th>\n",
       "      <th></th>\n",
       "      <th></th>\n",
       "      <th></th>\n",
       "      <th></th>\n",
       "      <th></th>\n",
       "      <th></th>\n",
       "      <th></th>\n",
       "      <th></th>\n",
       "      <th></th>\n",
       "      <th></th>\n",
       "      <th></th>\n",
       "      <th></th>\n",
       "      <th></th>\n",
       "      <th></th>\n",
       "      <th></th>\n",
       "      <th></th>\n",
       "      <th></th>\n",
       "    </tr>\n",
       "  </thead>\n",
       "  <tbody>\n",
       "    <tr>\n",
       "      <th>2012-02-02</th>\n",
       "      <td>0.008860</td>\n",
       "      <td>-0.000457</td>\n",
       "      <td>-0.002525</td>\n",
       "      <td>-0.001594</td>\n",
       "      <td>-0.005771</td>\n",
       "      <td>0.008642</td>\n",
       "      <td>-0.001026</td>\n",
       "      <td>0.000471</td>\n",
       "      <td>0.000669</td>\n",
       "      <td>0.004927</td>\n",
       "      <td>0.011047</td>\n",
       "      <td>0.003547</td>\n",
       "      <td>-0.004960</td>\n",
       "      <td>0.002334</td>\n",
       "      <td>0.000310</td>\n",
       "      <td>0.008847</td>\n",
       "      <td>0.002259</td>\n",
       "      <td>-0.002540</td>\n",
       "      <td>0.002939</td>\n",
       "      <td>0.000188</td>\n",
       "    </tr>\n",
       "    <tr>\n",
       "      <th>2012-02-03</th>\n",
       "      <td>0.001095</td>\n",
       "      <td>0.008860</td>\n",
       "      <td>-0.000457</td>\n",
       "      <td>-0.002525</td>\n",
       "      <td>-0.001594</td>\n",
       "      <td>-0.005771</td>\n",
       "      <td>0.008642</td>\n",
       "      <td>-0.001026</td>\n",
       "      <td>0.000471</td>\n",
       "      <td>0.000669</td>\n",
       "      <td>0.004927</td>\n",
       "      <td>0.011047</td>\n",
       "      <td>0.003547</td>\n",
       "      <td>-0.004960</td>\n",
       "      <td>0.002334</td>\n",
       "      <td>0.000310</td>\n",
       "      <td>0.008847</td>\n",
       "      <td>0.002259</td>\n",
       "      <td>-0.002540</td>\n",
       "      <td>0.002939</td>\n",
       "    </tr>\n",
       "    <tr>\n",
       "      <th>2012-02-06</th>\n",
       "      <td>0.014500</td>\n",
       "      <td>0.001095</td>\n",
       "      <td>0.008860</td>\n",
       "      <td>-0.000457</td>\n",
       "      <td>-0.002525</td>\n",
       "      <td>-0.001594</td>\n",
       "      <td>-0.005771</td>\n",
       "      <td>0.008642</td>\n",
       "      <td>-0.001026</td>\n",
       "      <td>0.000471</td>\n",
       "      <td>0.000669</td>\n",
       "      <td>0.004927</td>\n",
       "      <td>0.011047</td>\n",
       "      <td>0.003547</td>\n",
       "      <td>-0.004960</td>\n",
       "      <td>0.002334</td>\n",
       "      <td>0.000310</td>\n",
       "      <td>0.008847</td>\n",
       "      <td>0.002259</td>\n",
       "      <td>-0.002540</td>\n",
       "    </tr>\n",
       "  </tbody>\n",
       "</table>\n",
       "</div>"
      ],
      "text/plain": [
       "                  L1        L2        L3        L4        L5        L6  \\\n",
       "Date                                                                     \n",
       "2012-02-02  0.008860 -0.000457 -0.002525 -0.001594 -0.005771  0.008642   \n",
       "2012-02-03  0.001095  0.008860 -0.000457 -0.002525 -0.001594 -0.005771   \n",
       "2012-02-06  0.014500  0.001095  0.008860 -0.000457 -0.002525 -0.001594   \n",
       "\n",
       "                  L7        L8        L9       L10       L11       L12  \\\n",
       "Date                                                                     \n",
       "2012-02-02 -0.001026  0.000471  0.000669  0.004927  0.011047  0.003547   \n",
       "2012-02-03  0.008642 -0.001026  0.000471  0.000669  0.004927  0.011047   \n",
       "2012-02-06 -0.005771  0.008642 -0.001026  0.000471  0.000669  0.004927   \n",
       "\n",
       "                 L13       L14       L15       L16       L17       L18  \\\n",
       "Date                                                                     \n",
       "2012-02-02 -0.004960  0.002334  0.000310  0.008847  0.002259 -0.002540   \n",
       "2012-02-03  0.003547 -0.004960  0.002334  0.000310  0.008847  0.002259   \n",
       "2012-02-06  0.011047  0.003547 -0.004960  0.002334  0.000310  0.008847   \n",
       "\n",
       "                 L19       L20  \n",
       "Date                            \n",
       "2012-02-02  0.002939  0.000188  \n",
       "2012-02-03 -0.002540  0.002939  \n",
       "2012-02-06  0.002259 -0.002540  "
      ]
     },
     "execution_count": 527,
     "metadata": {},
     "output_type": "execute_result"
    }
   ],
   "source": [
    "lag_winsize = 20\n",
    "lagged_lrt_df = concatenate(\n",
    "    map(lambda x: ts_logrt.ix[range(x - 1, x - 1 - lag_winsize, -1), 0], \n",
    "        range(lag_winsize, ts_logrt.shape[0]))\n",
    ").reshape((-1, lag_winsize))\n",
    "lagnames = map(lambda x: 'L' + str(x), range(1, lag_winsize + 1))\n",
    "lagged_lrt_df = pd.DataFrame(lagged_lrt_df, index=ts_logrt.index[lag_winsize:], \n",
    "                             columns=lagnames)\n",
    "print 'Dimensions of lagged log return data:', lagged_lrt_df.shape\n",
    "lagged_lrt_df.head(n=3)"
   ]
  },
  {
   "cell_type": "code",
   "execution_count": 267,
   "metadata": {
    "collapsed": false
   },
   "outputs": [
    {
     "name": "stdout",
     "output_type": "stream",
     "text": [
      "Train set shape: (584, 20)\n",
      "Test set shape: (64, 20)\n"
     ]
    }
   ],
   "source": [
    "lagged_lrt_train = lagged_lrt_df[:split_date]\n",
    "lagged_lrt_test = lagged_lrt_df[split_date:]\n",
    "print 'Train set shape:', lagged_lrt_train.shape\n",
    "print 'Test set shape:', lagged_lrt_test.shape"
   ]
  },
  {
   "cell_type": "markdown",
   "metadata": {},
   "source": [
    "To improve optimization, scale the train set predictors to have zero mean and unit variance. Apply the same scaling to the test predictors as well."
   ]
  },
  {
   "cell_type": "code",
   "execution_count": 268,
   "metadata": {
    "collapsed": false
   },
   "outputs": [],
   "source": [
    "from sklearn import preprocessing\n",
    "llrt_scaler = preprocessing.StandardScaler().fit(lagged_lrt_train)\n",
    "llrt_train_scaled = llrt_scaler.transform(lagged_lrt_train)\n",
    "llrt_test_scaled = llrt_scaler.transform(lagged_lrt_test)"
   ]
  },
  {
   "cell_type": "markdown",
   "metadata": {},
   "source": [
    "Create log return targets."
   ]
  },
  {
   "cell_type": "code",
   "execution_count": 269,
   "metadata": {
    "collapsed": false
   },
   "outputs": [],
   "source": [
    "llrt_train_y = lrt_train[lag_winsize:].values.ravel()\n",
    "llrt_test_y = lrt_test.values.ravel()"
   ]
  },
  {
   "cell_type": "markdown",
   "metadata": {},
   "source": [
    "Calculate and visualize the correlation coefficients between the 20 predictors on the train set."
   ]
  },
  {
   "cell_type": "code",
   "execution_count": 530,
   "metadata": {
    "collapsed": false
   },
   "outputs": [
    {
     "data": {
      "text/plain": [
       "<matplotlib.image.AxesImage at 0x17e68ed10>"
      ]
     },
     "execution_count": 530,
     "metadata": {},
     "output_type": "execute_result"
    },
    {
     "data": {
      "image/png": "[encoded data removed]",
      "text/plain": [
       "<matplotlib.figure.Figure at 0x17e32c850>"
      ]
     },
     "metadata": {},
     "output_type": "display_data"
    }
   ],
   "source": [
    "llrt_train_cor = pd.DataFrame(corrcoef(llrt_train_scaled, rowvar=False), \n",
    "                              index=lagnames, columns=lagnames)\n",
    "imshow(llrt_train_cor, vmin=-1, vmax=1)"
   ]
  },
  {
   "cell_type": "markdown",
   "metadata": {},
   "source": [
    "Looks like the predictors have extremely weak correlations with each other so we shall not concern about multicollinearity."
   ]
  },
  {
   "cell_type": "markdown",
   "metadata": {},
   "source": [
    "Calculate the dot products between all train set samples. This will help me decide how to choose hyperparameters when using kernel functions."
   ]
  },
  {
   "cell_type": "code",
   "execution_count": 483,
   "metadata": {
    "collapsed": false
   },
   "outputs": [
    {
     "name": "stdout",
     "output_type": "stream",
     "text": [
      "== log return train set dot product (normalized) stats: ==\n",
      "Max: 2.71704332143\n",
      "Min: -1.36103003841\n"
     ]
    }
   ],
   "source": [
    "llrt_train_dot = dot(llrt_train_scaled, llrt_train_scaled.T)\n",
    "print '== log return train set dot product (normalized) stats: =='\n",
    "print 'Max:', llrt_train_dot.max()/llrt_train_scaled.shape[1]\n",
    "print 'Min:', llrt_train_dot.min()/llrt_train_scaled.shape[1]"
   ]
  },
  {
   "cell_type": "markdown",
   "metadata": {},
   "source": [
    "#### 2.1.2 Lagged ARMA residuals"
   ]
  },
  {
   "cell_type": "markdown",
   "metadata": {},
   "source": [
    "Use the same procedure as above on the ARMA residuals to set up predictors and targets, and then apply normalization. The purpose will become more clear when using a hybrid approach to combine ARMA and other machine learning methods."
   ]
  },
  {
   "cell_type": "code",
   "execution_count": 271,
   "metadata": {
    "collapsed": false
   },
   "outputs": [],
   "source": [
    "arma_train_resid = np.load('arma_train_resid.npy')\n",
    "arma_test_resid = np.load('arma_test_resid.npy')\n",
    "arma_all_resid = concatenate((arma_train_resid, arma_test_resid))\n",
    "lagged_resid_df = concatenate(\n",
    "    map(lambda x: arma_all_resid[range(x - 1, x - 1 - lag_winsize, -1)], \n",
    "        range(lag_winsize, len(arma_all_resid)))\n",
    ").reshape((-1, lag_winsize))\n",
    "lagged_resid_df = pd.DataFrame(lagged_resid_df, index=ts_logrt.index[lag_winsize:], \n",
    "                               columns=lagnames)\n",
    "lagged_resid_train = lagged_resid_df[:split_date]\n",
    "lagged_resid_test = lagged_resid_df[split_date:]\n",
    "lresid_scaler = preprocessing.StandardScaler().fit(lagged_resid_train)\n",
    "lresid_train_scaled = lresid_scaler.transform(lagged_resid_train)\n",
    "lresid_test_scaled = lresid_scaler.transform(lagged_resid_test)\n",
    "lresid_train_y = arma_train_resid[lag_winsize:]\n",
    "lresid_test_y = arma_test_resid"
   ]
  },
  {
   "cell_type": "code",
   "execution_count": 484,
   "metadata": {
    "collapsed": false
   },
   "outputs": [
    {
     "name": "stdout",
     "output_type": "stream",
     "text": [
      "== ARMA residual train set dot product (normalized) stats: ==\n",
      "Max: 2.77696251554\n",
      "Min: -1.31883071914\n"
     ]
    }
   ],
   "source": [
    "lresid_train_dot = dot(lresid_train_scaled, lresid_train_scaled.T)\n",
    "print '== ARMA residual train set dot product (normalized) stats: =='\n",
    "print 'Max:', lresid_train_dot.max()/lresid_train_scaled.shape[1]\n",
    "print 'Min:', lresid_train_dot.min()/lresid_train_scaled.shape[1]"
   ]
  },
  {
   "cell_type": "markdown",
   "metadata": {},
   "source": [
    "#### 2.1.3 Assess feature importance with randomized Lasso and random forest"
   ]
  },
  {
   "cell_type": "markdown",
   "metadata": {},
   "source": [
    "There is no pre-assumption regarding which lagged values are more useful than others as predictors for log returns. So here I'll use two feature selection methods - randomized Lasso and random forest to assess them."
   ]
  },
  {
   "cell_type": "code",
   "execution_count": 272,
   "metadata": {
    "collapsed": true
   },
   "outputs": [],
   "source": [
    "from sklearn.linear_model import RandomizedLasso\n",
    "import warnings\n",
    "rand_lasso = RandomizedLasso(n_resampling=3000, normalize=False, random_state=1, n_jobs=2)\n",
    "with warnings.catch_warnings():\n",
    "    warnings.simplefilter('ignore')\n",
    "    rand_lasso.fit(llrt_train_scaled, llrt_train_y)"
   ]
  },
  {
   "cell_type": "code",
   "execution_count": 536,
   "metadata": {
    "collapsed": false
   },
   "outputs": [
    {
     "data": {
      "text/plain": [
       "<matplotlib.text.Text at 0x17f664810>"
      ]
     },
     "execution_count": 536,
     "metadata": {},
     "output_type": "execute_result"
    },
    {
     "data": {
      "image/png": "[encoded data removed]",
      "text/plain": [
       "<matplotlib.figure.Figure at 0x17f5b1790>"
      ]
     },
     "metadata": {},
     "output_type": "display_data"
    }
   ],
   "source": [
    "lasso_scores = pd.DataFrame(rand_lasso.scores_, index=lagnames, \n",
    "                            columns=['reliability score'])\n",
    "lasso_scores.plot(kind='bar', legend=False, figsize=[8, 4])\n",
    "hlines(y=.25, xmin=-.25, xmax=lag_winsize - .25, colors='r')\n",
    "ylabel('Reliability score')"
   ]
  },
  {
   "cell_type": "markdown",
   "metadata": {},
   "source": [
    "There is really no distinction in reliability scores among the 20 lagged predictors and they are all well above the default 0.25 cutoff."
   ]
  },
  {
   "cell_type": "markdown",
   "metadata": {},
   "source": [
    "Now, use random forest to calculate feature importances. A potential advantage of random forest is that it may capture nonliearities in the data, while Lasso assumes linear dependencies."
   ]
  },
  {
   "cell_type": "code",
   "execution_count": 274,
   "metadata": {
    "collapsed": false
   },
   "outputs": [
    {
     "data": {
      "text/plain": [
       "RandomForestRegressor(bootstrap=True, criterion='mse', max_depth=None,\n",
       "           max_features='auto', max_leaf_nodes=None, min_samples_leaf=1,\n",
       "           min_samples_split=2, min_weight_fraction_leaf=0.0,\n",
       "           n_estimators=3000, n_jobs=2, oob_score=False, random_state=1,\n",
       "           verbose=0, warm_start=False)"
      ]
     },
     "execution_count": 274,
     "metadata": {},
     "output_type": "execute_result"
    }
   ],
   "source": [
    "from sklearn.ensemble import RandomForestRegressor\n",
    "rand_forest = RandomForestRegressor(n_estimators=3000, n_jobs=2, random_state=1)\n",
    "rand_forest.fit(llrt_train_scaled, llrt_train_y)"
   ]
  },
  {
   "cell_type": "code",
   "execution_count": 537,
   "metadata": {
    "collapsed": false
   },
   "outputs": [
    {
     "data": {
      "text/plain": [
       "<matplotlib.text.Text at 0x17aaf8f90>"
      ]
     },
     "execution_count": 537,
     "metadata": {},
     "output_type": "execute_result"
    },
    {
     "data": {
      "image/png": "[encoded data removed]",
      "text/plain": [
       "<matplotlib.figure.Figure at 0x178652910>"
      ]
     },
     "metadata": {},
     "output_type": "display_data"
    }
   ],
   "source": [
    "rf_scores = pd.DataFrame(rand_forest.feature_importances_, index=lagnames, \n",
    "                            columns=['feature importance'])\n",
    "rf_scores.plot(kind='bar', legend=False, figsize=[8, 4])\n",
    "ylabel('Feature importance')"
   ]
  },
  {
   "cell_type": "markdown",
   "metadata": {},
   "source": [
    "There are no clear winners in feature importances: the largest value is only about 2 times larger than the smallest value. However, the plot seems to suggest that recent lags are more important than remote lags."
   ]
  },
  {
   "cell_type": "markdown",
   "metadata": {},
   "source": [
    "The same feature selection procedure can be applied to the ARMA residuals:"
   ]
  },
  {
   "cell_type": "code",
   "execution_count": 538,
   "metadata": {
    "collapsed": false
   },
   "outputs": [
    {
     "name": "stdout",
     "output_type": "stream",
     "text": [
      "Randomized Lasso stability scores:\n",
      "[ 0.86733333  0.86766667  0.89033333  0.99333333  0.98366667  0.93666667\n",
      "  0.85033333  0.98633333  0.86166667  0.996       0.855       0.85133333\n",
      "  0.901       0.92666667  0.878       0.89        0.95033333  0.85\n",
      "  0.92933333  0.86233333]\n",
      "\n",
      "Random forest feature importance scores:\n",
      "[ 0.05273698  0.06074853  0.06985319  0.05327494  0.0715813   0.04877357\n",
      "  0.03721937  0.05763945  0.05390337  0.0571669   0.03906505  0.04031639\n",
      "  0.03549864  0.05056883  0.04805786  0.04761804  0.04811024  0.03349766\n",
      "  0.0486274   0.0457423 ]\n"
     ]
    }
   ],
   "source": [
    "rand_lasso_r = RandomizedLasso(n_resampling=3000, normalize=False, random_state=1, n_jobs=2)\n",
    "with warnings.catch_warnings():\n",
    "    warnings.simplefilter('ignore')\n",
    "    rand_lasso_r.fit(lresid_train_scaled, lresid_train_y)\n",
    "print \"Randomized Lasso stability scores:\"\n",
    "print rand_lasso_r.scores_\n",
    "rand_forest_r = RandomForestRegressor(n_estimators=3000, n_jobs=2, random_state=1)\n",
    "rand_forest_r.fit(lresid_train_scaled, lresid_train_y)\n",
    "print ''\n",
    "print \"Random forest feature importance scores:\"\n",
    "print rand_forest_r.feature_importances_"
   ]
  },
  {
   "cell_type": "markdown",
   "metadata": {},
   "source": [
    "The patterns seem to be similar to the log return data. Well, they should be."
   ]
  },
  {
   "cell_type": "markdown",
   "metadata": {},
   "source": [
    "### 2.2 Support vector machines"
   ]
  },
  {
   "cell_type": "markdown",
   "metadata": {},
   "source": [
    "Now, I'm going to use support vector machines to predict the log returns. Before doing that, let me load the previous ARMA's predictions and re-evaluate them at different time horizons. This can be important because a model's performance can be varied at different time horizons."
   ]
  },
  {
   "cell_type": "code",
   "execution_count": 469,
   "metadata": {
    "collapsed": false
   },
   "outputs": [
    {
     "data": {
      "text/html": [
       "<div>\n",
       "<table border=\"1\" class=\"dataframe\">\n",
       "  <thead>\n",
       "    <tr style=\"text-align: right;\">\n",
       "      <th></th>\n",
       "      <th>21</th>\n",
       "      <th>42</th>\n",
       "      <th>64</th>\n",
       "    </tr>\n",
       "  </thead>\n",
       "  <tbody>\n",
       "    <tr>\n",
       "      <th>ARMA</th>\n",
       "      <td>0.00499219</td>\n",
       "      <td>0.0207266</td>\n",
       "      <td>0.0237322</td>\n",
       "    </tr>\n",
       "  </tbody>\n",
       "</table>\n",
       "</div>"
      ],
      "text/plain": [
       "              21         42         64\n",
       "ARMA  0.00499219  0.0207266  0.0237322"
      ]
     },
     "execution_count": 469,
     "metadata": {},
     "output_type": "execute_result"
    }
   ],
   "source": [
    "arma_train_pred = np.load('arma_train_pred.npy')\n",
    "arma_test_pred = np.load('arma_test_pred.npy')\n",
    "horzn_list = [21, 42, 64]  # time horizon in business days.\n",
    "arma_horizon_score = pd.DataFrame(index=['ARMA'], columns=horzn_list)\n",
    "for h in horzn_list:\n",
    "    arma_horizon_score.ix['ARMA', h] = r2_score(llrt_test_y[:h], arma_test_pred[:h])\n",
    "arma_horizon_score"
   ]
  },
  {
   "cell_type": "markdown",
   "metadata": {},
   "source": [
    "The ARMA R2 scores somehow increase over time. This seems to be contrary to common belief. Since R2 score is not a very robust measure, this may be simply explained by variance. On the other hand, this suggests that the patterns captured by ARMA are robust and can last for a while.\n",
    "\n",
    "The ARMA performance is served as a baseline for other machine learning methods. "
   ]
  },
  {
   "cell_type": "markdown",
   "metadata": {},
   "source": [
    "In addition to ARMA, I'll also use a dummy regressor to create another baseline."
   ]
  },
  {
   "cell_type": "code",
   "execution_count": 470,
   "metadata": {
    "collapsed": false
   },
   "outputs": [
    {
     "data": {
      "text/html": [
       "<div>\n",
       "<table border=\"1\" class=\"dataframe\">\n",
       "  <thead>\n",
       "    <tr style=\"text-align: right;\">\n",
       "      <th></th>\n",
       "      <th>21</th>\n",
       "      <th>42</th>\n",
       "      <th>64</th>\n",
       "    </tr>\n",
       "  </thead>\n",
       "  <tbody>\n",
       "    <tr>\n",
       "      <th>DummyRegressor</th>\n",
       "      <td>-0.00534342</td>\n",
       "      <td>-0.000257202</td>\n",
       "      <td>-6.91409e-07</td>\n",
       "    </tr>\n",
       "  </tbody>\n",
       "</table>\n",
       "</div>"
      ],
      "text/plain": [
       "                        21           42           64\n",
       "DummyRegressor -0.00534342 -0.000257202 -6.91409e-07"
      ]
     },
     "execution_count": 470,
     "metadata": {},
     "output_type": "execute_result"
    }
   ],
   "source": [
    "from sklearn.dummy import DummyRegressor\n",
    "dum_reg = DummyRegressor('mean')\n",
    "dum_reg.fit(llrt_train_scaled, llrt_train_y)\n",
    "dumreg_test_pred = dum_reg.predict(llrt_test_scaled)\n",
    "dumreg_horizon_score = pd.DataFrame(index=['DummyRegressor'], columns=horzn_list)\n",
    "for h in horzn_list:\n",
    "    dumreg_horizon_score.ix['DummyRegressor', h] = r2_score(llrt_test_y[:h], \n",
    "                                                            dumreg_test_pred[:h])\n",
    "dumreg_horizon_score"
   ]
  },
  {
   "cell_type": "markdown",
   "metadata": {},
   "source": [
    "The dummy regressor produces negative R2 scores at all time horizons."
   ]
  },
  {
   "cell_type": "markdown",
   "metadata": {},
   "source": [
    "In the following, I'll write a subclass of the SVR class in sklearn. The only change I made is to add the number of lags as an argument. This allows me to tune this important value as a hyperparameter, just like other hyperparameters, such as `C` and `epsilon`."
   ]
  },
  {
   "cell_type": "code",
   "execution_count": 281,
   "metadata": {
    "collapsed": true
   },
   "outputs": [],
   "source": [
    "from sklearn.svm import SVR\n",
    "class SVRLagSelector(SVR):\n",
    "    '''SVR subclass that allows the number of lagged predictors \n",
    "    as a parameter.\n",
    "    '''\n",
    "    def __init__(self, nlag=None, kernel='rbf', degree=3, gamma='auto', coef0=0.0,\n",
    "                 tol=1e-3, C=1.0, epsilon=0.1, shrinking=True,\n",
    "                 cache_size=200, verbose=False, max_iter=-1):\n",
    "        super(SVRLagSelector, self).__init__(\n",
    "            kernel=kernel, degree=degree, gamma=gamma, coef0=coef0,\n",
    "            tol=tol, C=C, epsilon=epsilon, shrinking=shrinking,\n",
    "            cache_size=cache_size, verbose=verbose, max_iter=max_iter)\n",
    "        self.nlag = nlag\n",
    "        \n",
    "    def fit(self, X, y, sample_weight=None):\n",
    "        assert self.nlag <= X.shape[1]\n",
    "        return super(SVRLagSelector, \n",
    "                     self).fit(X[:, :self.nlag], y, sample_weight)\n",
    "    \n",
    "    def predict(self, X):\n",
    "        assert self.nlag <= X.shape[1]\n",
    "        return super(SVRLagSelector, \n",
    "                     self).predict(X[:, :self.nlag])\n",
    "    \n",
    "    def score(self, X, y, sample_weight=None):\n",
    "        assert self.nlag <= X.shape[1]\n",
    "        return super(SVRLagSelector, \n",
    "                     self).score(X[:, :self.nlag], y, sample_weight)   "
   ]
  },
  {
   "cell_type": "markdown",
   "metadata": {},
   "source": [
    "I'll apply SVMs using two approaches - *direct* and *hybrid*. In direct approach, I will build a regressor to directly predict log returns. In hybrid approach, I will build a regressor to predict ARMA residuals first, and then combine the predictions with ARMA predictions. This approach takes advantage of both ARMA and other machine learning techniques."
   ]
  },
  {
   "cell_type": "markdown",
   "metadata": {},
   "source": [
    "#### 2.2.1 Direct approach"
   ]
  },
  {
   "cell_type": "markdown",
   "metadata": {},
   "source": [
    "The following code uses a grid search to find the best hyperparameters for SVMs and was run on a workstation due to computational cost. Since the train set has a small effective sample size, I put an emphasis on reducing variance and choose `C` from -15 to -1 and raise it to the power of 10. The `epsilon` is chosen from -15 to -2 and raise to the power of 10, which means the largest `epsilon` is 0.01. This is because most log returns are small with the largest log return being around 0.02. I also let the number of lags be from [5, 10, 15, 20]. \n",
    "\n",
    "All 4 kernels that are available from sklearn, i.e. linear, poly, rbf and sigmoid are used."
   ]
  },
  {
   "cell_type": "markdown",
   "metadata": {},
   "source": [
    "```python\n",
    "from sklearn.svm import SVR\n",
    "from sklearn.grid_search import GridSearchCV\n",
    "import numpy as np\n",
    "import pandas as pd\n",
    "from sklearn.metrics import r2_score\n",
    "from sys import stdout\n",
    "from time import time\n",
    "\n",
    "#### Load data and setup ####\n",
    "d = np.load('lagged_traintest.npz')\n",
    "C_list = 10.**np.arange(-15, 0)\n",
    "eps_list = 10.**np.arange(-15, -1)\n",
    "nlag_list = range(5, 21, 5)\n",
    "kernel_list = ['linear', 'poly', 'rbf', 'sigmoid']\n",
    "tune_params = {'C': C_list, 'epsilon': eps_list, 'nlag': nlag_list}\n",
    "tune_params_poly = tune_params.copy()\n",
    "tune_params_poly['degree'] = range(2, 5)\n",
    "n_cvfolds = 10\n",
    "n_maxiters = 10e6\n",
    "\n",
    "#### Direct approach ####\n",
    "svm_r2_df = pd.DataFrame(index=kernel_list, columns=['train_r2', 'test_r2'])\n",
    "start = time()\n",
    "for kernel in kernel_list:\n",
    "    if kernel == 'poly':\n",
    "        reg = GridSearchCV(SVRLagSelector(kernel=kernel, max_iter=n_maxiters), \n",
    "                           tune_params_poly, cv=n_cvfolds, n_jobs=6)\n",
    "    else:\n",
    "        reg = GridSearchCV(SVRLagSelector(kernel=kernel, max_iter=n_maxiters), \n",
    "                           tune_params, cv=n_cvfolds, n_jobs=6)\n",
    "    reg.fit(d['llrt_train_scaled'], d['llrt_train_y'])\n",
    "    print 'Best parameters for %s kernel:' % (kernel), reg.best_params_\n",
    "    stdout.flush()\n",
    "    svm_r2_df.ix[kernel, 'train_r2'] = reg.score(d['llrt_train_scaled'], \n",
    "                                                 d['llrt_train_y'])\n",
    "    svm_r2_df.ix[kernel, 'test_r2'] = reg.score(d['llrt_test_scaled'], \n",
    "                                                d['llrt_test_y'])\n",
    "print 'Time cost for grid search:', time() - start\n",
    "svm_r2_df.to_csv('svm_r2_df.csv')\n",
    "```"
   ]
  },
  {
   "cell_type": "markdown",
   "metadata": {},
   "source": [
    "Here are the best parameters found for different kernels by grid search:\n",
    "\n",
    "Kernel|Best params\n",
    "------|-----------\n",
    "linear|{'epsilon': 0.001, 'C': 1e-7, 'nlag': 5}\n",
    "poly|{'epsilon': 1e-05, 'C': 0.0001, 'nlag': 15, 'degree': 2}\n",
    "rbf|{'epsilon': 0.001, 'C': 0.0001, 'nlag': 15}\n",
    "sigmoid|{'epsilon': 0.0001, 'C': 1e-15, 'nlag': 5}"
   ]
  },
  {
   "cell_type": "markdown",
   "metadata": {},
   "source": [
    "The chosen parameter values are within the search range with only one exception. The `C` for the sigmoid kernel hits the left boundary. However, decreasing `C` did not seem to change the result. I think `1e-15` was chosen instead of `1e-14` simply because it is the first value to consider. `1e-15` is already a very small value, anyway. So I decided not to expand the search range further."
   ]
  },
  {
   "cell_type": "markdown",
   "metadata": {},
   "source": [
    "Load the saved R2 scores on both train and test sets."
   ]
  },
  {
   "cell_type": "code",
   "execution_count": 471,
   "metadata": {
    "collapsed": false
   },
   "outputs": [
    {
     "data": {
      "text/html": [
       "<div>\n",
       "<table border=\"1\" class=\"dataframe\">\n",
       "  <thead>\n",
       "    <tr style=\"text-align: right;\">\n",
       "      <th></th>\n",
       "      <th>train_r2</th>\n",
       "      <th>test_r2</th>\n",
       "    </tr>\n",
       "  </thead>\n",
       "  <tbody>\n",
       "    <tr>\n",
       "      <th>linear</th>\n",
       "      <td>0.000063</td>\n",
       "      <td>-0.000254</td>\n",
       "    </tr>\n",
       "    <tr>\n",
       "      <th>poly</th>\n",
       "      <td>0.027798</td>\n",
       "      <td>-0.003249</td>\n",
       "    </tr>\n",
       "    <tr>\n",
       "      <th>rbf</th>\n",
       "      <td>0.016679</td>\n",
       "      <td>0.009271</td>\n",
       "    </tr>\n",
       "    <tr>\n",
       "      <th>sigmoid</th>\n",
       "      <td>-0.000290</td>\n",
       "      <td>-0.000639</td>\n",
       "    </tr>\n",
       "  </tbody>\n",
       "</table>\n",
       "</div>"
      ],
      "text/plain": [
       "         train_r2   test_r2\n",
       "linear   0.000063 -0.000254\n",
       "poly     0.027798 -0.003249\n",
       "rbf      0.016679  0.009271\n",
       "sigmoid -0.000290 -0.000639"
      ]
     },
     "execution_count": 471,
     "metadata": {},
     "output_type": "execute_result"
    }
   ],
   "source": [
    "svm_r2_df = pd.read_csv('svm_r2_df.csv', index_col=0)\n",
    "svm_r2_df"
   ]
  },
  {
   "cell_type": "markdown",
   "metadata": {},
   "source": [
    "Looks like the SVMs did a bad job in forecasting log returns with close to zero R2 scores on the test set. There is also evidence of overfitting even though the parameters were tuned by grid search. "
   ]
  },
  {
   "cell_type": "markdown",
   "metadata": {},
   "source": [
    "Now, take a look of the R2 scores at different time horizons."
   ]
  },
  {
   "cell_type": "code",
   "execution_count": 472,
   "metadata": {
    "collapsed": false
   },
   "outputs": [
    {
     "data": {
      "text/html": [
       "<div>\n",
       "<table border=\"1\" class=\"dataframe\">\n",
       "  <thead>\n",
       "    <tr style=\"text-align: right;\">\n",
       "      <th></th>\n",
       "      <th>21</th>\n",
       "      <th>42</th>\n",
       "      <th>64</th>\n",
       "    </tr>\n",
       "  </thead>\n",
       "  <tbody>\n",
       "    <tr>\n",
       "      <th>rbf</th>\n",
       "      <td>0.0145431</td>\n",
       "      <td>0.0139753</td>\n",
       "      <td>0.00927064</td>\n",
       "    </tr>\n",
       "    <tr>\n",
       "      <th>linear</th>\n",
       "      <td>-0.00210715</td>\n",
       "      <td>-0.000678203</td>\n",
       "      <td>-0.000254168</td>\n",
       "    </tr>\n",
       "    <tr>\n",
       "      <th>poly</th>\n",
       "      <td>-0.0251774</td>\n",
       "      <td>0.000544545</td>\n",
       "      <td>-0.00324935</td>\n",
       "    </tr>\n",
       "    <tr>\n",
       "      <th>sigmoid</th>\n",
       "      <td>-0.00136966</td>\n",
       "      <td>-0.00203189</td>\n",
       "      <td>-0.000639116</td>\n",
       "    </tr>\n",
       "  </tbody>\n",
       "</table>\n",
       "</div>"
      ],
      "text/plain": [
       "                 21           42           64\n",
       "rbf       0.0145431    0.0139753   0.00927064\n",
       "linear  -0.00210715 -0.000678203 -0.000254168\n",
       "poly     -0.0251774  0.000544545  -0.00324935\n",
       "sigmoid -0.00136966  -0.00203189 -0.000639116"
      ]
     },
     "execution_count": 472,
     "metadata": {},
     "output_type": "execute_result"
    }
   ],
   "source": [
    "svm_linear_reg = SVRLagSelector(kernel='linear', max_iter=10e6, \n",
    "                                epsilon=0.001, C=1e-7, nlag=5)\n",
    "svm_poly_reg = SVRLagSelector(kernel='poly', max_iter=10e6, \n",
    "                              epsilon=1e-5, C=0.0001, nlag=15, degree=2)\n",
    "svm_rbf_reg = SVRLagSelector(kernel='rbf', max_iter=10e6, \n",
    "                             epsilon=0.001, C=0.0001, nlag=15)\n",
    "svm_sigmoid_reg = SVRLagSelector(kernel='sigmoid', max_iter=10e6, \n",
    "                                 epsilon=0.0001, C=1e-15, nlag=5)\n",
    "svm_kernel_list = {'linear': svm_linear_reg, 'poly': svm_poly_reg, \n",
    "                   'rbf': svm_rbf_reg, 'sigmoid': svm_sigmoid_reg}\n",
    "horzn_list = [21, 42, 64]  # time horizon in business days.\n",
    "svm_score_horizon = pd.DataFrame(index=svm_kernel_list.keys(), \n",
    "                                 columns=horzn_list)\n",
    "for name, reg in svm_kernel_list.items():\n",
    "    reg.fit(llrt_train_scaled, llrt_train_y)\n",
    "    pred = reg.predict(llrt_test_scaled)\n",
    "    for h in horzn_list:\n",
    "        svm_score_horizon.ix[name, h] = r2_score(llrt_test_y[:h], pred[:h])\n",
    "svm_score_horizon"
   ]
  },
  {
   "cell_type": "markdown",
   "metadata": {},
   "source": [
    "Overall, the performance is bad for all kernels at all horizons."
   ]
  },
  {
   "cell_type": "markdown",
   "metadata": {},
   "source": [
    "#### 2.2.2 Hybrid approach"
   ]
  },
  {
   "cell_type": "markdown",
   "metadata": {},
   "source": [
    "The hybrid approach is inspired by this paper: *G. Peter Zhang, Time series forecasting using a hybrid ARIMA and neural network model, Neurocomputing, Volume 50, January 2003, Pages 159-175.* There are many similar studies in the literature."
   ]
  },
  {
   "cell_type": "markdown",
   "metadata": {},
   "source": [
    "```python\n",
    "#### Hybrid approach ####\n",
    "hyb_svm_r2_df = pd.DataFrame(index=kernel_list, columns=['train_r2', 'test_r2'])\n",
    "start = time()\n",
    "for kernel in kernel_list:\n",
    "    if kernel == 'poly':\n",
    "        reg = GridSearchCV(SVRLagSelector(kernel=kernel, max_iter=n_maxiters), \n",
    "                           tune_params_poly, cv=n_cvfolds, n_jobs=6)\n",
    "    else:\n",
    "        reg = GridSearchCV(SVRLagSelector(kernel=kernel, max_iter=n_maxiters), \n",
    "                           tune_params, cv=n_cvfolds, n_jobs=6)\n",
    "    reg.fit(d['lresid_train_scaled'], d['lresid_train_y'])\n",
    "    print 'Best parameters for %s kernel:' % (kernel), reg.best_params_\n",
    "    stdout.flush()\n",
    "    hyb_train_pred = d['arma_train_pred'][d['lag_winsize']:] \\\n",
    "                     + reg.predict(d['lresid_train_scaled'])\n",
    "    hyb_test_pred = d['arma_test_pred'] + reg.predict(d['lresid_test_scaled'])\n",
    "    hyb_svm_r2_df.ix[kernel, 'train_r2'] = r2_score(d['llrt_train_y'], \n",
    "                                                    hyb_train_pred)\n",
    "    hyb_svm_r2_df.ix[kernel, 'test_r2'] = r2_score(d['llrt_test_y'], \n",
    "                                                   hyb_test_pred)\n",
    "print 'Time cost for grid search:', time() - start\n",
    "hyb_svm_r2_df.to_csv('hyb_svm_r2_df.csv')\n",
    "```"
   ]
  },
  {
   "cell_type": "markdown",
   "metadata": {},
   "source": [
    "The best parameters found by grid search for different kernels:\n",
    "\n",
    "Kernel|Best params\n",
    "------|-----------\n",
    "linear|{'epsilon': 0.0001, 'C': 1e-15, 'nlag': 10}\n",
    "poly|{'epsilon': 1e-14, 'C': 0.0001, 'nlag': 15, 'degree': 2}\n",
    "rbf|{'epsilon': 0.0001, 'C': 1e-15, 'nlag': 5}\n",
    "sigmoid|{'epsilon': 0.0001, 'C': 1e-15, 'nlag': 5}"
   ]
  },
  {
   "cell_type": "code",
   "execution_count": 473,
   "metadata": {
    "collapsed": false
   },
   "outputs": [
    {
     "data": {
      "text/html": [
       "<div>\n",
       "<table border=\"1\" class=\"dataframe\">\n",
       "  <thead>\n",
       "    <tr style=\"text-align: right;\">\n",
       "      <th></th>\n",
       "      <th>train_r2</th>\n",
       "      <th>test_r2</th>\n",
       "    </tr>\n",
       "  </thead>\n",
       "  <tbody>\n",
       "    <tr>\n",
       "      <th>linear</th>\n",
       "      <td>0.014911</td>\n",
       "      <td>0.023009</td>\n",
       "    </tr>\n",
       "    <tr>\n",
       "      <th>poly</th>\n",
       "      <td>0.039928</td>\n",
       "      <td>0.015256</td>\n",
       "    </tr>\n",
       "    <tr>\n",
       "      <th>rbf</th>\n",
       "      <td>0.014949</td>\n",
       "      <td>0.022854</td>\n",
       "    </tr>\n",
       "    <tr>\n",
       "      <th>sigmoid</th>\n",
       "      <td>0.014172</td>\n",
       "      <td>0.024103</td>\n",
       "    </tr>\n",
       "  </tbody>\n",
       "</table>\n",
       "</div>"
      ],
      "text/plain": [
       "         train_r2   test_r2\n",
       "linear   0.014911  0.023009\n",
       "poly     0.039928  0.015256\n",
       "rbf      0.014949  0.022854\n",
       "sigmoid  0.014172  0.024103"
      ]
     },
     "execution_count": 473,
     "metadata": {},
     "output_type": "execute_result"
    }
   ],
   "source": [
    "hyb_svm_r2_df = pd.read_csv('hyb_svm_r2_df.csv', index_col=0)\n",
    "hyb_svm_r2_df"
   ]
  },
  {
   "cell_type": "markdown",
   "metadata": {},
   "source": [
    "This time, the performance has improved a lot with three kernels achieving >0.02 R2 scores on the test set! The worst performing kernel is the polynomial kernel that shows a sign of overfitting."
   ]
  },
  {
   "cell_type": "markdown",
   "metadata": {},
   "source": [
    "It's also worthwhile to check the hybrid SVMs' performance at different time horizons."
   ]
  },
  {
   "cell_type": "code",
   "execution_count": 542,
   "metadata": {
    "collapsed": false
   },
   "outputs": [
    {
     "data": {
      "text/html": [
       "<div>\n",
       "<table border=\"1\" class=\"dataframe\">\n",
       "  <thead>\n",
       "    <tr style=\"text-align: right;\">\n",
       "      <th></th>\n",
       "      <th>21</th>\n",
       "      <th>42</th>\n",
       "      <th>64</th>\n",
       "    </tr>\n",
       "  </thead>\n",
       "  <tbody>\n",
       "    <tr>\n",
       "      <th>rbf</th>\n",
       "      <td>-0.00340703</td>\n",
       "      <td>0.0178851</td>\n",
       "      <td>0.0228536</td>\n",
       "    </tr>\n",
       "    <tr>\n",
       "      <th>linear</th>\n",
       "      <td>-0.00212572</td>\n",
       "      <td>0.0183375</td>\n",
       "      <td>0.0230094</td>\n",
       "    </tr>\n",
       "    <tr>\n",
       "      <th>poly</th>\n",
       "      <td>-0.0271564</td>\n",
       "      <td>0.0127941</td>\n",
       "      <td>0.0152562</td>\n",
       "    </tr>\n",
       "    <tr>\n",
       "      <th>sigmoid</th>\n",
       "      <td>0.0108441</td>\n",
       "      <td>0.0224954</td>\n",
       "      <td>0.0241027</td>\n",
       "    </tr>\n",
       "  </tbody>\n",
       "</table>\n",
       "</div>"
      ],
      "text/plain": [
       "                 21         42         64\n",
       "rbf     -0.00340703  0.0178851  0.0228536\n",
       "linear  -0.00212572  0.0183375  0.0230094\n",
       "poly     -0.0271564  0.0127941  0.0152562\n",
       "sigmoid   0.0108441  0.0224954  0.0241027"
      ]
     },
     "execution_count": 542,
     "metadata": {},
     "output_type": "execute_result"
    }
   ],
   "source": [
    "svm_linear_reg = SVRLagSelector(kernel='linear', max_iter=10e6, \n",
    "                                epsilon=0.0001, C=1e-15, nlag=10)\n",
    "svm_poly_reg = SVRLagSelector(kernel='poly', max_iter=10e6, \n",
    "                              epsilon=1e-14, C=0.0001, nlag=15, degree=2)\n",
    "svm_rbf_reg = SVRLagSelector(kernel='rbf', max_iter=10e6, \n",
    "                             epsilon=0.0001, C=1e-15, nlag=5)\n",
    "svm_sigmoid_reg = SVRLagSelector(kernel='sigmoid', max_iter=10e6, \n",
    "                                 epsilon=0.0001, C=1e-15, nlag=5)\n",
    "svm_kernel_list = {'linear': svm_linear_reg, 'poly': svm_poly_reg, \n",
    "                   'rbf': svm_rbf_reg, 'sigmoid': svm_sigmoid_reg}\n",
    "horzn_list = [21, 42, 64]  # time horizon in business days.\n",
    "svm_score_horizon = pd.DataFrame(index=svm_kernel_list.keys(), \n",
    "                                 columns=horzn_list)\n",
    "for name, reg in svm_kernel_list.items():\n",
    "    reg.fit(lresid_train_scaled, lresid_train_y)\n",
    "    pred = arma_test_pred + reg.predict(lresid_test_scaled)\n",
    "    for h in horzn_list:\n",
    "        svm_score_horizon.ix[name, h] = r2_score(llrt_test_y[:h], pred[:h])\n",
    "svm_score_horizon"
   ]
  },
  {
   "cell_type": "markdown",
   "metadata": {},
   "source": [
    "The sigmoid SVM seems to improve the ARMA's performance at all time horizons."
   ]
  },
  {
   "cell_type": "markdown",
   "metadata": {},
   "source": [
    "Because the sigmoid kernel looks most promising among all, I'll finetune its parameters to see if any improvement can be made. The idea is to seach around the vicinity of the original best parameters to see if a better performing model can be found. I also added `gamma` and `coef0`, which were not tuned in the previous search."
   ]
  },
  {
   "cell_type": "code",
   "execution_count": 501,
   "metadata": {
    "collapsed": false
   },
   "outputs": [
    {
     "name": "stdout",
     "output_type": "stream",
     "text": [
      "Time cost for grid search: 171.067161083\n",
      "Best params for SVM sigmoid: {'epsilon': 0.00020000000000000009, 'nlag': 7, 'coef0': -2, 'gamma': 0.0001}\n"
     ]
    }
   ],
   "source": [
    "gamma_choices = ['auto']\n",
    "gamma_choices.extend((10.**arange(-5, 2)).tolist())\n",
    "params_grid = {'epsilon': 2.**arange(log2(0.0001) - 2, log2(0.0001) + 3), \n",
    "               'nlag': range(1, 10, 2), \n",
    "               'gamma': gamma_choices, \n",
    "               'coef0': range(-10, 11, 2)}\n",
    "sv_reg = SVRLagSelector(kernel='sigmoid', max_iter=10e6, C=1e-15)\n",
    "sv_gs_resid = GridSearchCV(sv_reg, params_grid, cv=10, n_jobs=-1)\n",
    "start = time()\n",
    "sv_gs_resid.fit(lresid_train_scaled, lresid_train_y)\n",
    "print 'Time cost for grid search:', time() - start\n",
    "print 'Best params for SVM sigmoid:', sv_gs_resid.best_params_"
   ]
  },
  {
   "cell_type": "markdown",
   "metadata": {},
   "source": [
    "Looks like the grid search found a new set of parameters that improved the R2 score in cross-validation."
   ]
  },
  {
   "cell_type": "markdown",
   "metadata": {},
   "source": [
    "Evaluate the performance of the orignal best parameters and the refined best parameters on residuals forecasting."
   ]
  },
  {
   "cell_type": "code",
   "execution_count": 503,
   "metadata": {
    "collapsed": false
   },
   "outputs": [
    {
     "data": {
      "text/html": [
       "<div>\n",
       "<table border=\"1\" class=\"dataframe\">\n",
       "  <thead>\n",
       "    <tr style=\"text-align: right;\">\n",
       "      <th></th>\n",
       "      <th>cross-validation R2</th>\n",
       "      <th>train R2</th>\n",
       "      <th>test R2</th>\n",
       "    </tr>\n",
       "  </thead>\n",
       "  <tbody>\n",
       "    <tr>\n",
       "      <th>orig</th>\n",
       "      <td>-0.00470781</td>\n",
       "      <td>-0.000924013</td>\n",
       "      <td>-0.000101989</td>\n",
       "    </tr>\n",
       "    <tr>\n",
       "      <th>refined</th>\n",
       "      <td>-0.00186126</td>\n",
       "      <td>-0.00013496</td>\n",
       "      <td>-0.00138199</td>\n",
       "    </tr>\n",
       "  </tbody>\n",
       "</table>\n",
       "</div>"
      ],
      "text/plain": [
       "        cross-validation R2     train R2      test R2\n",
       "orig            -0.00470781 -0.000924013 -0.000101989\n",
       "refined         -0.00186126  -0.00013496  -0.00138199"
      ]
     },
     "execution_count": 503,
     "metadata": {},
     "output_type": "execute_result"
    }
   ],
   "source": [
    "sv_resid_r2 = pd.DataFrame(index=['orig', 'refined'], \n",
    "                           columns=['cross-validation R2', 'train R2', 'test R2'])\n",
    "sv_resid_orig = SVRLagSelector(kernel='sigmoid', max_iter=-1, \n",
    "                               epsilon=0.0001, C=1e-15, nlag=5)\n",
    "cvp = cross_val_predict(sv_resid_orig, lresid_train_scaled, lresid_train_y, \n",
    "                        cv=10, n_jobs=-1)\n",
    "sv_resid_r2.ix['orig', 'cross-validation R2'] = r2_score(lresid_train_y, cvp)\n",
    "sv_resid_orig.fit(lresid_train_scaled, lresid_train_y)\n",
    "sv_resid_r2.ix['orig', 'train R2'] = sv_resid_orig.score(lresid_train_scaled, \n",
    "                                                         lresid_train_y)\n",
    "sv_resid_r2.ix['orig', 'test R2'] = sv_resid_orig.score(lresid_test_scaled, \n",
    "                                                        lresid_test_y)\n",
    "##\n",
    "sv_resid_refined = SVRLagSelector(kernel='sigmoid', max_iter=-1, \n",
    "                                  epsilon=0.0002, C=1e-15, nlag=7, \n",
    "                                  coef0=-2, gamma=0.0001)\n",
    "cvp = cross_val_predict(sv_resid_refined, lresid_train_scaled, lresid_train_y, \n",
    "                        cv=10, n_jobs=-1)\n",
    "sv_resid_r2.ix['refined', 'cross-validation R2'] = r2_score(lresid_train_y, cvp)\n",
    "sv_resid_refined.fit(lresid_train_scaled, lresid_train_y)\n",
    "sv_resid_r2.ix['refined', 'train R2'] = sv_resid_refined.score(lresid_train_scaled, \n",
    "                                                               lresid_train_y)\n",
    "sv_resid_r2.ix['refined', 'test R2'] = sv_resid_refined.score(lresid_test_scaled, \n",
    "                                                              lresid_test_y)\n",
    "sv_resid_r2"
   ]
  },
  {
   "cell_type": "markdown",
   "metadata": {},
   "source": [
    "The refined parameters show some improvement on the cross-validation R2 score but did worse on the test R2 score."
   ]
  },
  {
   "cell_type": "markdown",
   "metadata": {},
   "source": [
    "Now, evalute the performance on log returns forecasting."
   ]
  },
  {
   "cell_type": "code",
   "execution_count": 505,
   "metadata": {
    "collapsed": false
   },
   "outputs": [
    {
     "data": {
      "text/html": [
       "<div>\n",
       "<table border=\"1\" class=\"dataframe\">\n",
       "  <thead>\n",
       "    <tr style=\"text-align: right;\">\n",
       "      <th></th>\n",
       "      <th>train R2</th>\n",
       "      <th>test R2</th>\n",
       "    </tr>\n",
       "  </thead>\n",
       "  <tbody>\n",
       "    <tr>\n",
       "      <th>orig</th>\n",
       "      <td>0.0141717</td>\n",
       "      <td>0.0241027</td>\n",
       "    </tr>\n",
       "    <tr>\n",
       "      <th>refined</th>\n",
       "      <td>0.0149489</td>\n",
       "      <td>0.0228536</td>\n",
       "    </tr>\n",
       "  </tbody>\n",
       "</table>\n",
       "</div>"
      ],
      "text/plain": [
       "          train R2    test R2\n",
       "orig     0.0141717  0.0241027\n",
       "refined  0.0149489  0.0228536"
      ]
     },
     "execution_count": 505,
     "metadata": {},
     "output_type": "execute_result"
    }
   ],
   "source": [
    "sv_lrt_r2 = pd.DataFrame(index=['orig', 'refined'], \n",
    "                         columns=['train R2', 'test R2'])\n",
    "sv_train_pred_orig = arma_train_pred[lag_winsize:]\\\n",
    "                     + sv_resid_orig.predict(lresid_train_scaled)\n",
    "sv_test_pred_orig = arma_test_pred\\\n",
    "                    + sv_resid_orig.predict(lresid_test_scaled)\n",
    "sv_lrt_r2.ix['orig', 'train R2'] = r2_score(llrt_train_y, sv_train_pred_orig)\n",
    "sv_lrt_r2.ix['orig', 'test R2'] = r2_score(llrt_test_y, sv_test_pred_orig)\n",
    "##\n",
    "sv_train_pred_refined = arma_train_pred[lag_winsize:]\\\n",
    "                        + sv_resid_refined.predict(lresid_train_scaled)\n",
    "sv_test_pred_refined = arma_test_pred\\\n",
    "                        + sv_resid_refined.predict(lresid_test_scaled)\n",
    "sv_lrt_r2.ix['refined', 'train R2'] = r2_score(llrt_train_y, sv_train_pred_refined)\n",
    "sv_lrt_r2.ix['refined', 'test R2'] = r2_score(llrt_test_y, sv_test_pred_refined)\n",
    "sv_lrt_r2"
   ]
  },
  {
   "cell_type": "markdown",
   "metadata": {},
   "source": [
    "Again, the refined parameters show no improvement."
   ]
  },
  {
   "cell_type": "code",
   "execution_count": 506,
   "metadata": {
    "collapsed": false
   },
   "outputs": [
    {
     "data": {
      "text/html": [
       "<div>\n",
       "<table border=\"1\" class=\"dataframe\">\n",
       "  <thead>\n",
       "    <tr style=\"text-align: right;\">\n",
       "      <th></th>\n",
       "      <th>21</th>\n",
       "      <th>42</th>\n",
       "      <th>64</th>\n",
       "    </tr>\n",
       "  </thead>\n",
       "  <tbody>\n",
       "    <tr>\n",
       "      <th>orig</th>\n",
       "      <td>0.0108441</td>\n",
       "      <td>0.0224954</td>\n",
       "      <td>0.0241027</td>\n",
       "    </tr>\n",
       "    <tr>\n",
       "      <th>refined</th>\n",
       "      <td>-0.00340703</td>\n",
       "      <td>0.0178851</td>\n",
       "      <td>0.0228536</td>\n",
       "    </tr>\n",
       "  </tbody>\n",
       "</table>\n",
       "</div>"
      ],
      "text/plain": [
       "                 21         42         64\n",
       "orig      0.0108441  0.0224954  0.0241027\n",
       "refined -0.00340703  0.0178851  0.0228536"
      ]
     },
     "execution_count": 506,
     "metadata": {},
     "output_type": "execute_result"
    }
   ],
   "source": [
    "horzn_list = [21, 42, 64]  # time horizon in business days.\n",
    "sv_horizon_score = pd.DataFrame(index=['orig', 'refined'], columns=horzn_list)\n",
    "for h in horzn_list:\n",
    "    sv_horizon_score.ix['orig', h] = r2_score(llrt_test_y[:h], \n",
    "                                              sv_test_pred_orig[:h])\n",
    "    sv_horizon_score.ix['refined', h] = r2_score(llrt_test_y[:h], \n",
    "                                                 sv_test_pred_refined[:h])\n",
    "sv_horizon_score"
   ]
  },
  {
   "cell_type": "markdown",
   "metadata": {},
   "source": [
    "Lastly, the refined parameters did not improve the performance at any time horizon."
   ]
  },
  {
   "cell_type": "markdown",
   "metadata": {},
   "source": [
    "### 2.3 Random forest and extra trees"
   ]
  },
  {
   "cell_type": "markdown",
   "metadata": {},
   "source": [
    "The ensemble of decision trees is a class of popular machine learning methods that usually generalize very well. Here I consider two ensemble methods - extra trees and random forest. The extra trees method is a variant of the random forest, in which the cutoff values are randomly generated (instead of optimized) each time the nodes are split. This change makes the generated trees more stochastic than the optimized trees in a random forest and is supposed to reduce variance."
   ]
  },
  {
   "cell_type": "markdown",
   "metadata": {},
   "source": [
    "Same as above, I'll define subclasses for the `ExtraTreesRegressor` and the `RandomForestRegressor` classes in sklearn, which allow me to tune the number of lags as a hyperparameter."
   ]
  },
  {
   "cell_type": "code",
   "execution_count": 540,
   "metadata": {
    "collapsed": true
   },
   "outputs": [],
   "source": [
    "from sklearn.ensemble import ExtraTreesRegressor\n",
    "class ETLagSelector(ExtraTreesRegressor):\n",
    "    '''ExtraTreesRegressor subclass that allows the number of \n",
    "    lagged predictors as a parameter.\n",
    "    '''\n",
    "    def __init__(self, nlag=None, n_estimators=10, criterion=\"mse\",\n",
    "                 max_depth=None, min_samples_split=2, min_samples_leaf=1,\n",
    "                 min_weight_fraction_leaf=0., max_features=\"auto\",\n",
    "                 max_leaf_nodes=None, bootstrap=False, oob_score=False,\n",
    "                 n_jobs=1, random_state=None, verbose=0, warm_start=False):\n",
    "        super(ETLagSelector, self).__init__(\n",
    "            n_estimators=n_estimators, \n",
    "            criterion=criterion, \n",
    "            max_depth=max_depth,\n",
    "            min_samples_split=min_samples_split, \n",
    "            min_samples_leaf=min_samples_leaf,\n",
    "            min_weight_fraction_leaf=min_weight_fraction_leaf, \n",
    "            max_features=max_features,\n",
    "            max_leaf_nodes=max_leaf_nodes, \n",
    "            bootstrap=bootstrap, \n",
    "            oob_score=oob_score,\n",
    "            n_jobs=n_jobs, \n",
    "            random_state=random_state, \n",
    "            verbose=verbose, \n",
    "            warm_start=warm_start)\n",
    "        self.nlag = nlag\n",
    "        \n",
    "    def apply(self, X):\n",
    "        assert self.nlag <= X.shape[1]\n",
    "        return super(ETLagSelector, self).apply(X[:, :self.nlag])\n",
    "    \n",
    "    def fit(self, X, y, sample_weight=None):\n",
    "        assert self.nlag <= X.shape[1]\n",
    "        return super(ETLagSelector, \n",
    "                     self).fit(X[:, :self.nlag], y, sample_weight)\n",
    "    \n",
    "    def fit_transform(self, X, y=None):\n",
    "        assert self.nlag <= X.shape[1]\n",
    "        return super(ETLagSelector, \n",
    "                     self).fit_transform(X[:, :self.nlag], y)\n",
    "    \n",
    "    def predict(self, X):\n",
    "        assert self.nlag <= X.shape[1]\n",
    "        return super(ETLagSelector, \n",
    "                     self).predict(X[:, :self.nlag])\n",
    "    \n",
    "    def score(self, X, y, sample_weight=None):\n",
    "        assert self.nlag <= X.shape[1]\n",
    "        return super(ETLagSelector, \n",
    "                     self).score(X[:, :self.nlag], y, sample_weight)"
   ]
  },
  {
   "cell_type": "code",
   "execution_count": 452,
   "metadata": {
    "collapsed": true
   },
   "outputs": [],
   "source": [
    "from sklearn.ensemble import RandomForestRegressor\n",
    "class RFLagSelector(RandomForestRegressor):\n",
    "    '''RandomForestRegressor subclass that allows the number of \n",
    "    lagged predictors as a parameter.\n",
    "    '''\n",
    "    def __init__(self, nlag=None, n_estimators=10, criterion=\"mse\",\n",
    "                 max_depth=None, min_samples_split=2, min_samples_leaf=1,\n",
    "                 min_weight_fraction_leaf=0., max_features=\"auto\",\n",
    "                 max_leaf_nodes=None, bootstrap=True, oob_score=False,\n",
    "                 n_jobs=1, random_state=None, verbose=0, warm_start=False):\n",
    "        super(RFLagSelector, self).__init__(\n",
    "            n_estimators=n_estimators, \n",
    "            criterion=criterion, \n",
    "            max_depth=max_depth,\n",
    "            min_samples_split=min_samples_split, \n",
    "            min_samples_leaf=min_samples_leaf,\n",
    "            min_weight_fraction_leaf=min_weight_fraction_leaf, \n",
    "            max_features=max_features,\n",
    "            max_leaf_nodes=max_leaf_nodes, \n",
    "            bootstrap=bootstrap, \n",
    "            oob_score=oob_score,\n",
    "            n_jobs=n_jobs, \n",
    "            random_state=random_state, \n",
    "            verbose=verbose, \n",
    "            warm_start=warm_start)\n",
    "        self.nlag = nlag\n",
    "        \n",
    "    def apply(self, X):\n",
    "        assert self.nlag <= X.shape[1]\n",
    "        return super(RFLagSelector, self).apply(X[:, :self.nlag])\n",
    "    \n",
    "    def fit(self, X, y, sample_weight=None):\n",
    "        assert self.nlag <= X.shape[1]\n",
    "        return super(RFLagSelector, \n",
    "                     self).fit(X[:, :self.nlag], y, sample_weight)\n",
    "    \n",
    "    def fit_transform(self, X, y=None):\n",
    "        assert self.nlag <= X.shape[1]\n",
    "        return super(RFLagSelector, \n",
    "                     self).fit_transform(X[:, :self.nlag], y)\n",
    "    \n",
    "    def predict(self, X):\n",
    "        assert self.nlag <= X.shape[1]\n",
    "        return super(RFLagSelector, \n",
    "                     self).predict(X[:, :self.nlag])\n",
    "    \n",
    "    def score(self, X, y, sample_weight=None):\n",
    "        assert self.nlag <= X.shape[1]\n",
    "        return super(RFLagSelector, \n",
    "                     self).score(X[:, :self.nlag], y, sample_weight)"
   ]
  },
  {
   "cell_type": "markdown",
   "metadata": {},
   "source": [
    "The most important parameter for an ensemble of trees is the maximum number of features to consider for each tree. Here, I tune it as a portion of the predictors from 0.1 to 1.0 in an increment of 0.1. I also tune the minimum number of samples to be from 1 to 64 in a power 2 series for each leaf. For each ensemble, 500 trees are generated."
   ]
  },
  {
   "cell_type": "markdown",
   "metadata": {},
   "source": [
    "#### 2.3.1 Direct approach"
   ]
  },
  {
   "cell_type": "markdown",
   "metadata": {},
   "source": [
    "```python\n",
    "from sklearn.ensemble import RandomForestRegressor\n",
    "from sklearn.ensemble import ExtraTreesRegressor\n",
    "from sklearn.grid_search import GridSearchCV\n",
    "import numpy as np\n",
    "import pandas as pd\n",
    "from sklearn.metrics import r2_score\n",
    "from sys import stdout\n",
    "from time import time\n",
    "\n",
    "#### Load data and setup ####\n",
    "d = np.load('lagged_traintest.npz')\n",
    "tree_list = {'rf': RFLagSelector, 'et': ETLagSelector}\n",
    "maxfea_list = np.linspace(.1, 1., 10)\n",
    "minsam_list = 2**np.arange(0, 7)\n",
    "nlag_list = range(5, 21, 5)\n",
    "tune_params = {'max_features': maxfea_list, 'min_samples_leaf': minsam_list, \n",
    "               'nlag': nlag_list}\n",
    "n_cvfolds = 10\n",
    "n_estimators = 500\n",
    "\n",
    "#### Direct approach ####\n",
    "tree_r2_df = pd.DataFrame(index=tree_list.keys(), \n",
    "                          columns=['train_r2', 'test_r2'])\n",
    "start = time()\n",
    "for name, tree in tree_list.items():\n",
    "    reg = GridSearchCV(tree(n_estimators=n_estimators, random_state=1), \n",
    "                       tune_params, cv=n_cvfolds, n_jobs=6)\n",
    "    reg.fit(d['llrt_train_scaled'], d['llrt_train_y'])\n",
    "    print 'Best parameters for %s:' % (name), reg.best_params_\n",
    "    stdout.flush()\n",
    "    tree_r2_df.ix[name, 'train_r2'] = reg.score(d['llrt_train_scaled'], \n",
    "                                                d['llrt_train_y'])\n",
    "    tree_r2_df.ix[name, 'test_r2'] = reg.score(d['llrt_test_scaled'], \n",
    "                                               d['llrt_test_y'])\n",
    "print 'Time cost for grid search:', time() - start\n",
    "tree_r2_df.to_csv('tree_r2_df.csv')\n",
    "```"
   ]
  },
  {
   "cell_type": "markdown",
   "metadata": {},
   "source": [
    "The best parameters found by grid search are:\n",
    "\n",
    "Method|Parameters\n",
    "------|----------\n",
    "Extra trees|{'max_features': 0.4, 'nlag': 5, 'min_samples_leaf': 4}\n",
    "Random forest|{'max_features': 0.1, 'nlag': 15, 'min_samples_leaf': 16}"
   ]
  },
  {
   "cell_type": "code",
   "execution_count": 543,
   "metadata": {
    "collapsed": false
   },
   "outputs": [
    {
     "data": {
      "text/html": [
       "<div>\n",
       "<table border=\"1\" class=\"dataframe\">\n",
       "  <thead>\n",
       "    <tr style=\"text-align: right;\">\n",
       "      <th></th>\n",
       "      <th>train_r2</th>\n",
       "      <th>test_r2</th>\n",
       "    </tr>\n",
       "  </thead>\n",
       "  <tbody>\n",
       "    <tr>\n",
       "      <th>et</th>\n",
       "      <td>0.228954</td>\n",
       "      <td>-0.056826</td>\n",
       "    </tr>\n",
       "    <tr>\n",
       "      <th>rf</th>\n",
       "      <td>0.155554</td>\n",
       "      <td>0.014934</td>\n",
       "    </tr>\n",
       "  </tbody>\n",
       "</table>\n",
       "</div>"
      ],
      "text/plain": [
       "    train_r2   test_r2\n",
       "et  0.228954 -0.056826\n",
       "rf  0.155554  0.014934"
      ]
     },
     "execution_count": 543,
     "metadata": {},
     "output_type": "execute_result"
    }
   ],
   "source": [
    "tree_r2_df = pd.read_csv('tree_r2_df.csv', index_col=0)\n",
    "tree_r2_df"
   ]
  },
  {
   "cell_type": "markdown",
   "metadata": {},
   "source": [
    "Looks like both ensemble methods suffer from overfitting, while the random forest suffers less than the extra trees. This seems to be contrary to the promise of the extra trees. "
   ]
  },
  {
   "cell_type": "markdown",
   "metadata": {},
   "source": [
    "Now, re-build the two ensemble models using the parameters found by the grid search and evaluate them using cross-validation and at different time horizons."
   ]
  },
  {
   "cell_type": "code",
   "execution_count": 546,
   "metadata": {
    "collapsed": false
   },
   "outputs": [
    {
     "data": {
      "text/html": [
       "<div>\n",
       "<table border=\"1\" class=\"dataframe\">\n",
       "  <thead>\n",
       "    <tr style=\"text-align: right;\">\n",
       "      <th></th>\n",
       "      <th>cross-validation</th>\n",
       "      <th>21</th>\n",
       "      <th>42</th>\n",
       "      <th>64</th>\n",
       "    </tr>\n",
       "  </thead>\n",
       "  <tbody>\n",
       "    <tr>\n",
       "      <th>ExtraTrees</th>\n",
       "      <td>0.00543001</td>\n",
       "      <td>-0.021403</td>\n",
       "      <td>0.0605764</td>\n",
       "      <td>-0.0568264</td>\n",
       "    </tr>\n",
       "    <tr>\n",
       "      <th>RandomForest</th>\n",
       "      <td>0.000429987</td>\n",
       "      <td>0.122874</td>\n",
       "      <td>0.0803118</td>\n",
       "      <td>0.0149337</td>\n",
       "    </tr>\n",
       "  </tbody>\n",
       "</table>\n",
       "</div>"
      ],
      "text/plain": [
       "             cross-validation        21         42         64\n",
       "ExtraTrees         0.00543001 -0.021403  0.0605764 -0.0568264\n",
       "RandomForest      0.000429987  0.122874  0.0803118  0.0149337"
      ]
     },
     "execution_count": 546,
     "metadata": {},
     "output_type": "execute_result"
    }
   ],
   "source": [
    "et_reg = ETLagSelector(n_estimators=500, random_state=1, \n",
    "                       max_features=.4, nlag=5, min_samples_leaf=4)\n",
    "rf_reg = RFLagSelector(n_estimators=500, random_state=1, \n",
    "                       max_features=.1, nlag=15, min_samples_leaf=16)\n",
    "eval_list = ['cross-validation', 21, 42, 64]\n",
    "trees_score = pd.DataFrame(index=['ExtraTrees', 'RandomForest'], \n",
    "                           columns=eval_list)\n",
    "cvp = cross_val_predict(et_reg, llrt_train_scaled, llrt_train_y, cv=10, n_jobs=-1)\n",
    "trees_score.ix['ExtraTrees', 'cross-validation'] = r2_score(llrt_train_y, cvp)\n",
    "cvp = cross_val_predict(rf_reg, llrt_train_scaled, llrt_train_y, cv=10, n_jobs=-1)\n",
    "trees_score.ix['RandomForest', 'cross-validation'] = r2_score(llrt_train_y, cvp)\n",
    "et_reg.fit(llrt_train_scaled, llrt_train_y)\n",
    "et_test_pred = et_reg.predict(llrt_test_scaled)\n",
    "rf_reg.fit(llrt_train_scaled, llrt_train_y)\n",
    "rf_test_pred = rf_reg.predict(llrt_test_scaled)\n",
    "for h in eval_list[1:]:\n",
    "    trees_score.ix['ExtraTrees', h] = r2_score(llrt_test_y[:h], et_test_pred[:h])\n",
    "    trees_score.ix['RandomForest', h] = r2_score(llrt_test_y[:h], rf_test_pred[:h])\n",
    "trees_score"
   ]
  },
  {
   "cell_type": "markdown",
   "metadata": {},
   "source": [
    "The above result is quite surprising: in cross-validation, it seems the extra trees did slightly better than the random forest but it did not correlate with the test scores; at 21 and 42 days, the random forest did extremely well but the R2 score quickly decreased at 64 days; the extra trees had a nice R2 score at 42 days but negative R2 scores at 21 and 64 days. The result shows large variance for both ensemble methods."
   ]
  },
  {
   "cell_type": "markdown",
   "metadata": {},
   "source": [
    "Since the above result is so intriguing, let me plot the squared errors of both ensemble methods and the ARMA model along time."
   ]
  },
  {
   "cell_type": "code",
   "execution_count": 550,
   "metadata": {
    "collapsed": false
   },
   "outputs": [
    {
     "data": {
      "text/plain": [
       "<matplotlib.axes._subplots.AxesSubplot at 0x17fda9790>"
      ]
     },
     "execution_count": 550,
     "metadata": {},
     "output_type": "execute_result"
    },
    {
     "data": {
      "image/png": "[encoded data removed]",
      "text/plain": [
       "<matplotlib.figure.Figure at 0x17fbc32d0>"
      ]
     },
     "metadata": {},
     "output_type": "display_data"
    }
   ],
   "source": [
    "sq_err_rf = (llrt_test_y - rf_test_pred)**2\n",
    "sq_err_et = (llrt_test_y - et_test_pred)**2\n",
    "sq_err_arma = arma_test_resid**2\n",
    "sq_err_time = pd.DataFrame(c_[sq_err_arma, sq_err_et, sq_err_rf], \n",
    "                           index=lrt_test.index, \n",
    "                           columns=['ARMA', 'ExtraTrees', 'RandomForest'])\n",
    "fig,axes = subplots(3, 1)\n",
    "fig.set_size_inches([14, 11])\n",
    "sq_err_time['2014-06'].plot(ax=axes[0], grid=True, title='Squared errors in Jun 2014', \n",
    "                            use_index=False, rot=0, legend=False)\n",
    "sq_err_time['2014-07'].plot(ax=axes[1], grid=True, title='Squared errors in Jul 2014', \n",
    "                            use_index=False, rot=0)\n",
    "sq_err_time['2014-08'].plot(ax=axes[2], grid=True, title='Squared errors in Aug 2014', \n",
    "                            use_index=False, rot=0, legend=False)"
   ]
  },
  {
   "cell_type": "markdown",
   "metadata": {},
   "source": [
    "It can be seen that the random forest was able to produce lower squared errors than both ARMA and the extra trees on most days in Jun and Jul. Also, the extra trees correlated with the random forest in squared errors. However, ARMA produced lower squared errors than both ensemble methods in Aug, which eventually made it outperform them on the whole test set."
   ]
  },
  {
   "cell_type": "markdown",
   "metadata": {},
   "source": [
    "#### 2.3.2 Hybrid approach"
   ]
  },
  {
   "cell_type": "markdown",
   "metadata": {},
   "source": [
    "```python\n",
    "#### Hybrid approach ####\n",
    "hyb_tree_r2_df = pd.DataFrame(index=tree_list.keys(), \n",
    "                              columns=['train_r2', 'test_r2'])\n",
    "start = time()\n",
    "for name, tree in tree_list.items():\n",
    "    reg = GridSearchCV(tree(n_estimators=n_estimators, random_state=1), \n",
    "                       tune_params, cv=n_cvfolds, n_jobs=6)\n",
    "    reg.fit(d['lresid_train_scaled'], d['lresid_train_y'])\n",
    "    print 'Best parameters for %s:' % (name), reg.best_params_\n",
    "    stdout.flush()\n",
    "    hyb_train_pred = d['arma_train_pred'][d['lag_winsize']:] \\\n",
    "                     + reg.predict(d['lresid_train_scaled'])\n",
    "    hyb_test_pred = d['arma_test_pred'] + reg.predict(d['lresid_test_scaled'])\n",
    "    hyb_tree_r2_df.ix[name, 'train_r2'] = r2_score(d['llrt_train_y'], \n",
    "                                                   hyb_train_pred)\n",
    "    hyb_tree_r2_df.ix[name, 'test_r2'] = r2_score(d['llrt_test_y'], \n",
    "                                                  hyb_test_pred)\n",
    "print 'Time cost for grid search:', time() - start\n",
    "hyb_tree_r2_df.to_csv('hyb_tree_r2_df.csv')\n",
    "```"
   ]
  },
  {
   "cell_type": "markdown",
   "metadata": {},
   "source": [
    "The best parameters found by grid search are:\n",
    "\n",
    "Method|Parameters\n",
    "------|----------\n",
    "Extra trees|{'max_features': 0.4, 'nlag': 10, 'min_samples_leaf': 32}\n",
    "Random forest|{'max_features': 0.1, 'nlag': 10, 'min_samples_leaf': 64}"
   ]
  },
  {
   "cell_type": "code",
   "execution_count": 547,
   "metadata": {
    "collapsed": false
   },
   "outputs": [
    {
     "data": {
      "text/html": [
       "<div>\n",
       "<table border=\"1\" class=\"dataframe\">\n",
       "  <thead>\n",
       "    <tr style=\"text-align: right;\">\n",
       "      <th></th>\n",
       "      <th>train_r2</th>\n",
       "      <th>test_r2</th>\n",
       "    </tr>\n",
       "  </thead>\n",
       "  <tbody>\n",
       "    <tr>\n",
       "      <th>et</th>\n",
       "      <td>0.043945</td>\n",
       "      <td>0.020106</td>\n",
       "    </tr>\n",
       "    <tr>\n",
       "      <th>rf</th>\n",
       "      <td>0.044424</td>\n",
       "      <td>0.022894</td>\n",
       "    </tr>\n",
       "  </tbody>\n",
       "</table>\n",
       "</div>"
      ],
      "text/plain": [
       "    train_r2   test_r2\n",
       "et  0.043945  0.020106\n",
       "rf  0.044424  0.022894"
      ]
     },
     "execution_count": 547,
     "metadata": {},
     "output_type": "execute_result"
    }
   ],
   "source": [
    "hyb_tree_r2_df = pd.read_csv('hyb_tree_r2_df.csv', index_col=0)\n",
    "hyb_tree_r2_df"
   ]
  },
  {
   "cell_type": "markdown",
   "metadata": {},
   "source": [
    "Using hybrid approach, both ensemble methods suffer less from overfitting than direct approach. Again, rebuild the two models and evaluate them at cross-validation and different time horizons."
   ]
  },
  {
   "cell_type": "code",
   "execution_count": 549,
   "metadata": {
    "collapsed": false
   },
   "outputs": [
    {
     "data": {
      "text/html": [
       "<div>\n",
       "<table border=\"1\" class=\"dataframe\">\n",
       "  <thead>\n",
       "    <tr style=\"text-align: right;\">\n",
       "      <th></th>\n",
       "      <th>cross-validation</th>\n",
       "      <th>21</th>\n",
       "      <th>42</th>\n",
       "      <th>64</th>\n",
       "    </tr>\n",
       "  </thead>\n",
       "  <tbody>\n",
       "    <tr>\n",
       "      <th>ExtraTrees</th>\n",
       "      <td>0.0127541</td>\n",
       "      <td>0.0293641</td>\n",
       "      <td>0.046976</td>\n",
       "      <td>0.0201061</td>\n",
       "    </tr>\n",
       "    <tr>\n",
       "      <th>RandomForest</th>\n",
       "      <td>0.00659209</td>\n",
       "      <td>0.0550102</td>\n",
       "      <td>0.0608721</td>\n",
       "      <td>0.0228937</td>\n",
       "    </tr>\n",
       "  </tbody>\n",
       "</table>\n",
       "</div>"
      ],
      "text/plain": [
       "             cross-validation         21         42         64\n",
       "ExtraTrees          0.0127541  0.0293641   0.046976  0.0201061\n",
       "RandomForest       0.00659209  0.0550102  0.0608721  0.0228937"
      ]
     },
     "execution_count": 549,
     "metadata": {},
     "output_type": "execute_result"
    }
   ],
   "source": [
    "et_reg = ETLagSelector(n_estimators=500, random_state=1, \n",
    "                       max_features=.4, nlag=10, min_samples_leaf=32)\n",
    "rf_reg = RFLagSelector(n_estimators=500, random_state=1, \n",
    "                       max_features=.1, nlag=10, min_samples_leaf=64)\n",
    "eval_list = ['cross-validation', 21, 42, 64]\n",
    "trees_score = pd.DataFrame(index=['ExtraTrees', 'RandomForest'], \n",
    "                           columns=eval_list)\n",
    "cvp = cross_val_predict(et_reg, lresid_train_scaled, lresid_train_y, cv=10, n_jobs=-1)\n",
    "cvp += arma_train_pred[lag_winsize:]\n",
    "trees_score.ix['ExtraTrees', 'cross-validation'] = r2_score(llrt_train_y, cvp)\n",
    "cvp = cross_val_predict(rf_reg, lresid_train_scaled, lresid_train_y, cv=10, n_jobs=-1)\n",
    "cvp += arma_train_pred[lag_winsize:]\n",
    "trees_score.ix['RandomForest', 'cross-validation'] = r2_score(llrt_train_y, cvp)\n",
    "et_reg.fit(lresid_train_scaled, lresid_train_y)\n",
    "et_test_pred = et_reg.predict(lresid_test_scaled) + arma_test_pred\n",
    "rf_reg.fit(lresid_train_scaled, lresid_train_y)\n",
    "rf_test_pred = rf_reg.predict(lresid_test_scaled) + arma_test_pred\n",
    "for h in eval_list[1:]:\n",
    "    trees_score.ix['ExtraTrees', h] = r2_score(llrt_test_y[:h], et_test_pred[:h])\n",
    "    trees_score.ix['RandomForest', h] = r2_score(llrt_test_y[:h], rf_test_pred[:h])\n",
    "trees_score"
   ]
  },
  {
   "cell_type": "markdown",
   "metadata": {},
   "source": [
    "The above result shows exactly the same pattern as the result in the direct approach. In cross-validation, the extra trees did better than the random forest but that did not correlate with the test scores. The random forest did extremely well at 21 and 42 days but the score decreased at 64 days. While the extra trees did best at the 42 days. Overall, the hybrid approach shows less variance than the direct approach."
   ]
  },
  {
   "cell_type": "markdown",
   "metadata": {},
   "source": [
    "## Discussion"
   ]
  },
  {
   "cell_type": "markdown",
   "metadata": {},
   "source": [
    "It is particularly concerning and puzzling that the cross-validation scores do not correlate well with the test scores on the S&P500 log return data. This makes hyperparameters tuning difficult since it depends on the cross-validation result. One can reason that the classic way of doing cross-validation does not work with time series data, which assumes the sampels to be **i.i.d.** A possible remedy is to weight the train samples so that the squared errors of the more remote samples are less weighted. This way, we can tune the parameters to emphasize more on the more recent train samples, which are presumably more relevant to the test samples. Similarly, the train samples can be weighted in the loss functions of machine learning algorithms. This weighting strategy may be explored in future chapters."
   ]
  }
 ],
 "metadata": {
  "kernelspec": {
   "display_name": "Python 2",
   "language": "python",
   "name": "python2"
  },
  "language_info": {
   "codemirror_mode": {
    "name": "ipython",
    "version": 2
   },
   "file_extension": ".py",
   "mimetype": "text/x-python",
   "name": "python",
   "nbconvert_exporter": "python",
   "pygments_lexer": "ipython2",
   "version": "2.7.11"
  }
 },
 "nbformat": 4,
 "nbformat_minor": 0
}
